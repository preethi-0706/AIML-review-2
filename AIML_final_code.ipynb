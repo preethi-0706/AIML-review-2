{
  "nbformat": 4,
  "nbformat_minor": 0,
  "metadata": {
    "colab": {
      "provenance": []
    },
    "kernelspec": {
      "name": "python3",
      "display_name": "Python 3"
    },
    "language_info": {
      "name": "python"
    }
  },
  "cells": [
    {
      "cell_type": "code",
      "execution_count": 22,
      "metadata": {
        "colab": {
          "base_uri": "https://localhost:8080/"
        },
        "id": "jFCErJddoZpb",
        "outputId": "7694a528-c7ee-429c-86df-02058de9667b"
      },
      "outputs": [
        {
          "output_type": "stream",
          "name": "stdout",
          "text": [
            "           Date      Time  PM2.5  PM10  NO2  NH3  SO2  CO  Ozone  AQI\n",
            "0    01.12.2022  06:00:00     73    83    5    3    8  32     20   83\n",
            "1    01.12.2022  12:00:00     74    83    5    3    8  32     20   83\n",
            "2    01.12.2022  15:00:00     73    84    5    3    8  35     21   84\n",
            "3    01.12.2022  18:00:00     73    85    5    3    8  37     22   85\n",
            "4    01.12.2022  20:00:00     75    84    5    3    8  38     20   84\n",
            "..          ...       ...    ...   ...  ...  ...  ...  ..    ...  ...\n",
            "222  14.01.2023  14.00.00    129   119    9    2   17  81     18  129\n",
            "223  14.01.2023  20.00.00    119   114    9    2   16  69     18  119\n",
            "224  14.01.2023  23.00.00    120   113    9    2   16  72     17  120\n",
            "225  15.01.2023   9.00.00    136   113    6    2   16  76     16  136\n",
            "226  15.01.2023  12.00.00    137   113    6    2   16  79     17  137\n",
            "\n",
            "[227 rows x 10 columns]\n"
          ]
        }
      ],
      "source": [
        "import pandas as pd\n",
        "d=pd.read_excel('/content/AIR QUALITY (6).xlsx')\n",
        "print(d)"
      ]
    },
    {
      "cell_type": "code",
      "source": [
        "x=d.iloc[:,2:9]\n",
        "y=d.iloc[:,9:10]\n",
        "print(x,'\\n',y)"
      ],
      "metadata": {
        "colab": {
          "base_uri": "https://localhost:8080/"
        },
        "id": "dJigU8u6o71P",
        "outputId": "98608d2d-db47-4632-e419-1d9ba43a2b5a"
      },
      "execution_count": 23,
      "outputs": [
        {
          "output_type": "stream",
          "name": "stdout",
          "text": [
            "     PM2.5  PM10  NO2  NH3  SO2  CO  Ozone\n",
            "0       73    83    5    3    8  32     20\n",
            "1       74    83    5    3    8  32     20\n",
            "2       73    84    5    3    8  35     21\n",
            "3       73    85    5    3    8  37     22\n",
            "4       75    84    5    3    8  38     20\n",
            "..     ...   ...  ...  ...  ...  ..    ...\n",
            "222    129   119    9    2   17  81     18\n",
            "223    119   114    9    2   16  69     18\n",
            "224    120   113    9    2   16  72     17\n",
            "225    136   113    6    2   16  76     16\n",
            "226    137   113    6    2   16  79     17\n",
            "\n",
            "[227 rows x 7 columns] \n",
            "      AQI\n",
            "0     83\n",
            "1     83\n",
            "2     84\n",
            "3     85\n",
            "4     84\n",
            "..   ...\n",
            "222  129\n",
            "223  119\n",
            "224  120\n",
            "225  136\n",
            "226  137\n",
            "\n",
            "[227 rows x 1 columns]\n"
          ]
        }
      ]
    },
    {
      "cell_type": "code",
      "source": [
        "from sklearn.model_selection import train_test_split                                                        \n",
        "X_train,x_test,y_train,y_test=train_test_split(x,y,test_size=0.20,random_state=2)\n",
        "print(X_train.shape)\n",
        "print(y_train.shape)\n",
        "print(x_test.shape)\n",
        "print(y_test.shape)"
      ],
      "metadata": {
        "colab": {
          "base_uri": "https://localhost:8080/"
        },
        "id": "t97pR6nppQLt",
        "outputId": "64e25922-3460-463e-b5e4-41297e74ffb3"
      },
      "execution_count": 24,
      "outputs": [
        {
          "output_type": "stream",
          "name": "stdout",
          "text": [
            "(181, 7)\n",
            "(181, 1)\n",
            "(46, 7)\n",
            "(46, 1)\n"
          ]
        }
      ]
    },
    {
      "cell_type": "code",
      "source": [
        "from sklearn.linear_model import LinearRegression\n",
        "model = LinearRegression()\n",
        "model.fit(x, y)\n",
        "model = LinearRegression().fit(x, y)\n",
        "r_sq = model.score(x, y)\n",
        "print(f\"coefficient of determination: {r_sq}\")\n",
        "\n",
        "print(f\"intercept: {model.intercept_}\")\n",
        "\n",
        "print(f\"coefficients: {model.coef_}\")"
      ],
      "metadata": {
        "colab": {
          "base_uri": "https://localhost:8080/"
        },
        "id": "9Dd4GqEepX3S",
        "outputId": "79732bf5-ec88-48c8-f16c-31f5967b3b2e"
      },
      "execution_count": 25,
      "outputs": [
        {
          "output_type": "stream",
          "name": "stdout",
          "text": [
            "coefficient of determination: 0.9821557169531218\n",
            "intercept: [-0.08580502]\n",
            "coefficients: [[ 0.35879411  0.61398745  0.0451548   1.25779111 -0.10569021  0.11209191\n",
            "   0.08726029]]\n"
          ]
        }
      ]
    },
    {
      "cell_type": "code",
      "source": [
        "from sklearn.tree import DecisionTreeRegressor\n",
        "from sklearn.metrics import accuracy_score\n",
        "cls=DecisionTreeRegressor()\n",
        "cc=cls.fit(X_train,y_train)"
      ],
      "metadata": {
        "id": "5T-gBOlTq2dh"
      },
      "execution_count": 26,
      "outputs": []
    },
    {
      "cell_type": "code",
      "source": [
        "from sklearn import tree\n",
        "tree.plot_tree(cc,filled=True)"
      ],
      "metadata": {
        "colab": {
          "base_uri": "https://localhost:8080/",
          "height": 1000
        },
        "id": "TfvTJCYmsRg_",
        "outputId": "e1fde449-ee57-4305-8b25-cc440097b62c"
      },
      "execution_count": 27,
      "outputs": [
        {
          "output_type": "execute_result",
          "data": {
            "text/plain": [
              "[Text(0.5508832789179104, 0.9615384615384616, 'x[1] <= 106.0\\nsquared_error = 1150.348\\nsamples = 181\\nvalue = 91.541'),\n",
              " Text(0.30978894589552236, 0.8846153846153846, 'x[1] <= 59.0\\nsquared_error = 254.212\\nsamples = 127\\nvalue = 71.764'),\n",
              " Text(0.12779850746268656, 0.8076923076923077, 'x[0] <= 62.0\\nsquared_error = 71.572\\nsamples = 34\\nvalue = 51.324'),\n",
              " Text(0.08395522388059702, 0.7307692307692307, 'x[1] <= 49.0\\nsquared_error = 29.316\\nsamples = 30\\nvalue = 48.867'),\n",
              " Text(0.048507462686567165, 0.6538461538461539, 'x[1] <= 44.5\\nsquared_error = 2.729\\nsamples = 15\\nvalue = 44.267'),\n",
              " Text(0.029850746268656716, 0.5769230769230769, 'x[0] <= 18.0\\nsquared_error = 0.975\\nsamples = 11\\nvalue = 43.455'),\n",
              " Text(0.014925373134328358, 0.5, 'x[5] <= 44.5\\nsquared_error = 0.24\\nsamples = 5\\nvalue = 44.4'),\n",
              " Text(0.007462686567164179, 0.4230769230769231, 'squared_error = 0.0\\nsamples = 3\\nvalue = 44.0'),\n",
              " Text(0.022388059701492536, 0.4230769230769231, 'squared_error = 0.0\\nsamples = 2\\nvalue = 45.0'),\n",
              " Text(0.04477611940298507, 0.5, 'x[3] <= 2.5\\nsquared_error = 0.222\\nsamples = 6\\nvalue = 42.667'),\n",
              " Text(0.03731343283582089, 0.4230769230769231, 'squared_error = 0.0\\nsamples = 2\\nvalue = 42.0'),\n",
              " Text(0.05223880597014925, 0.4230769230769231, 'squared_error = 0.0\\nsamples = 4\\nvalue = 43.0'),\n",
              " Text(0.06716417910447761, 0.5769230769230769, 'x[6] <= 7.5\\nsquared_error = 0.75\\nsamples = 4\\nvalue = 46.5'),\n",
              " Text(0.05970149253731343, 0.5, 'squared_error = 0.0\\nsamples = 1\\nvalue = 48.0'),\n",
              " Text(0.07462686567164178, 0.5, 'squared_error = 0.0\\nsamples = 3\\nvalue = 46.0'),\n",
              " Text(0.11940298507462686, 0.6538461538461539, 'x[0] <= 52.5\\nsquared_error = 13.582\\nsamples = 15\\nvalue = 53.467'),\n",
              " Text(0.09701492537313433, 0.5769230769230769, 'x[1] <= 57.5\\nsquared_error = 12.926\\nsamples = 11\\nvalue = 52.273'),\n",
              " Text(0.08955223880597014, 0.5, 'x[1] <= 53.5\\nsquared_error = 4.76\\nsamples = 10\\nvalue = 53.2'),\n",
              " Text(0.06716417910447761, 0.4230769230769231, 'x[1] <= 51.0\\nsquared_error = 1.44\\nsamples = 5\\nvalue = 51.4'),\n",
              " Text(0.05970149253731343, 0.34615384615384615, 'squared_error = 0.0\\nsamples = 2\\nvalue = 50.0'),\n",
              " Text(0.07462686567164178, 0.34615384615384615, 'x[1] <= 52.5\\nsquared_error = 0.222\\nsamples = 3\\nvalue = 52.333'),\n",
              " Text(0.06716417910447761, 0.2692307692307692, 'squared_error = 0.0\\nsamples = 2\\nvalue = 52.0'),\n",
              " Text(0.08208955223880597, 0.2692307692307692, 'squared_error = 0.0\\nsamples = 1\\nvalue = 53.0'),\n",
              " Text(0.11194029850746269, 0.4230769230769231, 'x[5] <= 31.0\\nsquared_error = 1.6\\nsamples = 5\\nvalue = 55.0'),\n",
              " Text(0.1044776119402985, 0.34615384615384615, 'x[4] <= 8.5\\nsquared_error = 0.25\\nsamples = 2\\nvalue = 56.5'),\n",
              " Text(0.09701492537313433, 0.2692307692307692, 'squared_error = 0.0\\nsamples = 1\\nvalue = 56.0'),\n",
              " Text(0.11194029850746269, 0.2692307692307692, 'squared_error = 0.0\\nsamples = 1\\nvalue = 57.0'),\n",
              " Text(0.11940298507462686, 0.34615384615384615, 'squared_error = 0.0\\nsamples = 3\\nvalue = 54.0'),\n",
              " Text(0.1044776119402985, 0.5, 'squared_error = 0.0\\nsamples = 1\\nvalue = 43.0'),\n",
              " Text(0.1417910447761194, 0.5769230769230769, 'x[6] <= 15.5\\nsquared_error = 0.688\\nsamples = 4\\nvalue = 56.75'),\n",
              " Text(0.13432835820895522, 0.5, 'x[6] <= 6.0\\nsquared_error = 0.222\\nsamples = 3\\nvalue = 56.333'),\n",
              " Text(0.12686567164179105, 0.4230769230769231, 'squared_error = 0.0\\nsamples = 1\\nvalue = 57.0'),\n",
              " Text(0.1417910447761194, 0.4230769230769231, 'squared_error = 0.0\\nsamples = 2\\nvalue = 56.0'),\n",
              " Text(0.14925373134328357, 0.5, 'squared_error = 0.0\\nsamples = 1\\nvalue = 58.0'),\n",
              " Text(0.17164179104477612, 0.7307692307692307, 'x[0] <= 71.0\\nsquared_error = 3.688\\nsamples = 4\\nvalue = 69.75'),\n",
              " Text(0.16417910447761194, 0.6538461538461539, 'x[1] <= 55.5\\nsquared_error = 0.222\\nsamples = 3\\nvalue = 68.667'),\n",
              " Text(0.15671641791044777, 0.5769230769230769, 'squared_error = 0.0\\nsamples = 2\\nvalue = 69.0'),\n",
              " Text(0.17164179104477612, 0.5769230769230769, 'squared_error = 0.0\\nsamples = 1\\nvalue = 68.0'),\n",
              " Text(0.1791044776119403, 0.6538461538461539, 'squared_error = 0.0\\nsamples = 1\\nvalue = 73.0'),\n",
              " Text(0.4917793843283582, 0.8076923076923077, 'x[0] <= 92.5\\nsquared_error = 112.396\\nsamples = 93\\nvalue = 79.237'),\n",
              " Text(0.4163945895522388, 0.7307692307692307, 'x[1] <= 74.5\\nsquared_error = 48.633\\nsamples = 83\\nvalue = 76.446'),\n",
              " Text(0.3113339552238806, 0.6538461538461539, 'x[0] <= 74.5\\nsquared_error = 28.296\\nsamples = 53\\nvalue = 72.925'),\n",
              " Text(0.24580223880597016, 0.5769230769230769, 'x[5] <= 75.5\\nsquared_error = 19.25\\nsamples = 36\\nvalue = 70.5'),\n",
              " Text(0.23833955223880596, 0.5, 'x[3] <= 2.5\\nsquared_error = 12.145\\nsamples = 34\\nvalue = 69.824'),\n",
              " Text(0.17444029850746268, 0.4230769230769231, 'x[1] <= 64.5\\nsquared_error = 9.868\\nsamples = 22\\nvalue = 68.364'),\n",
              " Text(0.1417910447761194, 0.34615384615384615, 'x[0] <= 65.0\\nsquared_error = 2.49\\nsamples = 7\\nvalue = 64.714'),\n",
              " Text(0.12686567164179105, 0.2692307692307692, 'x[1] <= 63.5\\nsquared_error = 0.16\\nsamples = 5\\nvalue = 63.8'),\n",
              " Text(0.11940298507462686, 0.19230769230769232, 'x[0] <= 62.5\\nsquared_error = 0.25\\nsamples = 2\\nvalue = 63.5'),\n",
              " Text(0.11194029850746269, 0.11538461538461539, 'squared_error = 0.0\\nsamples = 1\\nvalue = 63.0'),\n",
              " Text(0.12686567164179105, 0.11538461538461539, 'squared_error = 0.0\\nsamples = 1\\nvalue = 64.0'),\n",
              " Text(0.13432835820895522, 0.19230769230769232, 'squared_error = 0.0\\nsamples = 3\\nvalue = 64.0'),\n",
              " Text(0.15671641791044777, 0.2692307692307692, 'x[6] <= 15.5\\nsquared_error = 1.0\\nsamples = 2\\nvalue = 67.0'),\n",
              " Text(0.14925373134328357, 0.19230769230769232, 'squared_error = 0.0\\nsamples = 1\\nvalue = 68.0'),\n",
              " Text(0.16417910447761194, 0.19230769230769232, 'squared_error = 0.0\\nsamples = 1\\nvalue = 66.0'),\n",
              " Text(0.20708955223880596, 0.34615384615384615, 'x[0] <= 34.0\\nsquared_error = 4.196\\nsamples = 15\\nvalue = 70.067'),\n",
              " Text(0.1865671641791045, 0.2692307692307692, 'x[0] <= 32.5\\nsquared_error = 0.222\\nsamples = 3\\nvalue = 66.667'),\n",
              " Text(0.1791044776119403, 0.19230769230769232, 'squared_error = 0.0\\nsamples = 2\\nvalue = 67.0'),\n",
              " Text(0.19402985074626866, 0.19230769230769232, 'squared_error = 0.0\\nsamples = 1\\nvalue = 66.0'),\n",
              " Text(0.22761194029850745, 0.2692307692307692, 'x[0] <= 71.5\\nsquared_error = 1.576\\nsamples = 12\\nvalue = 70.917'),\n",
              " Text(0.208955223880597, 0.19230769230769232, 'x[6] <= 12.0\\nsquared_error = 0.444\\nsamples = 9\\nvalue = 70.333'),\n",
              " Text(0.19402985074626866, 0.11538461538461539, 'x[1] <= 66.0\\nsquared_error = 0.222\\nsamples = 3\\nvalue = 69.667'),\n",
              " Text(0.1865671641791045, 0.038461538461538464, 'squared_error = 0.0\\nsamples = 1\\nvalue = 69.0'),\n",
              " Text(0.20149253731343283, 0.038461538461538464, 'squared_error = 0.0\\nsamples = 2\\nvalue = 70.0'),\n",
              " Text(0.22388059701492538, 0.11538461538461539, 'x[0] <= 47.0\\nsquared_error = 0.222\\nsamples = 6\\nvalue = 70.667'),\n",
              " Text(0.21641791044776118, 0.038461538461538464, 'squared_error = 0.0\\nsamples = 2\\nvalue = 70.0'),\n",
              " Text(0.23134328358208955, 0.038461538461538464, 'squared_error = 0.0\\nsamples = 4\\nvalue = 71.0'),\n",
              " Text(0.2462686567164179, 0.19230769230769232, 'x[0] <= 73.0\\nsquared_error = 0.889\\nsamples = 3\\nvalue = 72.667'),\n",
              " Text(0.23880597014925373, 0.11538461538461539, 'squared_error = 0.0\\nsamples = 2\\nvalue = 72.0'),\n",
              " Text(0.2537313432835821, 0.11538461538461539, 'squared_error = 0.0\\nsamples = 1\\nvalue = 74.0'),\n",
              " Text(0.30223880597014924, 0.4230769230769231, 'x[3] <= 3.5\\nsquared_error = 5.25\\nsamples = 12\\nvalue = 72.5'),\n",
              " Text(0.2835820895522388, 0.34615384615384615, 'x[1] <= 70.5\\nsquared_error = 6.806\\nsamples = 6\\nvalue = 71.167'),\n",
              " Text(0.26865671641791045, 0.2692307692307692, 'x[5] <= 40.5\\nsquared_error = 8.222\\nsamples = 3\\nvalue = 69.667'),\n",
              " Text(0.26119402985074625, 0.19230769230769232, 'squared_error = 0.0\\nsamples = 1\\nvalue = 66.0'),\n",
              " Text(0.27611940298507465, 0.19230769230769232, 'x[4] <= 10.5\\nsquared_error = 2.25\\nsamples = 2\\nvalue = 71.5'),\n",
              " Text(0.26865671641791045, 0.11538461538461539, 'squared_error = 0.0\\nsamples = 1\\nvalue = 73.0'),\n",
              " Text(0.2835820895522388, 0.11538461538461539, 'squared_error = 0.0\\nsamples = 1\\nvalue = 70.0'),\n",
              " Text(0.29850746268656714, 0.2692307692307692, 'x[5] <= 26.0\\nsquared_error = 0.889\\nsamples = 3\\nvalue = 72.667'),\n",
              " Text(0.291044776119403, 0.19230769230769232, 'squared_error = 0.0\\nsamples = 1\\nvalue = 74.0'),\n",
              " Text(0.30597014925373134, 0.19230769230769232, 'squared_error = 0.0\\nsamples = 2\\nvalue = 72.0'),\n",
              " Text(0.3208955223880597, 0.34615384615384615, 'x[4] <= 8.5\\nsquared_error = 0.139\\nsamples = 6\\nvalue = 73.833'),\n",
              " Text(0.31343283582089554, 0.2692307692307692, 'squared_error = 0.0\\nsamples = 4\\nvalue = 74.0'),\n",
              " Text(0.3283582089552239, 0.2692307692307692, 'x[6] <= 6.5\\nsquared_error = 0.25\\nsamples = 2\\nvalue = 73.5'),\n",
              " Text(0.3208955223880597, 0.19230769230769232, 'squared_error = 0.0\\nsamples = 1\\nvalue = 74.0'),\n",
              " Text(0.3358208955223881, 0.19230769230769232, 'squared_error = 0.0\\nsamples = 1\\nvalue = 73.0'),\n",
              " Text(0.25326492537313433, 0.5, 'squared_error = 0.0\\nsamples = 2\\nvalue = 82.0'),\n",
              " Text(0.376865671641791, 0.5769230769230769, 'x[0] <= 80.5\\nsquared_error = 8.644\\nsamples = 17\\nvalue = 78.059'),\n",
              " Text(0.3582089552238806, 0.5, 'x[0] <= 76.5\\nsquared_error = 1.122\\nsamples = 14\\nvalue = 76.857'),\n",
              " Text(0.34328358208955223, 0.4230769230769231, 'x[6] <= 7.5\\nsquared_error = 0.139\\nsamples = 6\\nvalue = 75.833'),\n",
              " Text(0.3358208955223881, 0.34615384615384615, 'squared_error = 0.0\\nsamples = 1\\nvalue = 75.0'),\n",
              " Text(0.35074626865671643, 0.34615384615384615, 'squared_error = 0.0\\nsamples = 5\\nvalue = 76.0'),\n",
              " Text(0.373134328358209, 0.4230769230769231, 'x[0] <= 77.5\\nsquared_error = 0.484\\nsamples = 8\\nvalue = 77.625'),\n",
              " Text(0.3656716417910448, 0.34615384615384615, 'squared_error = 0.0\\nsamples = 4\\nvalue = 77.0'),\n",
              " Text(0.3805970149253731, 0.34615384615384615, 'x[4] <= 9.5\\nsquared_error = 0.188\\nsamples = 4\\nvalue = 78.25'),\n",
              " Text(0.373134328358209, 0.2692307692307692, 'squared_error = 0.0\\nsamples = 1\\nvalue = 79.0'),\n",
              " Text(0.3880597014925373, 0.2692307692307692, 'squared_error = 0.0\\nsamples = 3\\nvalue = 78.0'),\n",
              " Text(0.39552238805970147, 0.5, 'x[4] <= 11.5\\nsquared_error = 5.556\\nsamples = 3\\nvalue = 83.667'),\n",
              " Text(0.3880597014925373, 0.4230769230769231, 'squared_error = 0.0\\nsamples = 2\\nvalue = 82.0'),\n",
              " Text(0.40298507462686567, 0.4230769230769231, 'squared_error = 0.0\\nsamples = 1\\nvalue = 87.0'),\n",
              " Text(0.5214552238805971, 0.6538461538461539, 'x[2] <= 13.5\\nsquared_error = 23.956\\nsamples = 30\\nvalue = 82.667'),\n",
              " Text(0.5139925373134329, 0.5769230769230769, 'x[0] <= 83.5\\nsquared_error = 12.792\\nsamples = 29\\nvalue = 82.034'),\n",
              " Text(0.47574626865671643, 0.5, 'x[1] <= 82.0\\nsquared_error = 10.042\\nsamples = 23\\nvalue = 80.957'),\n",
              " Text(0.44402985074626866, 0.4230769230769231, 'x[0] <= 75.5\\nsquared_error = 6.561\\nsamples = 17\\nvalue = 79.706'),\n",
              " Text(0.417910447761194, 0.34615384615384615, 'x[1] <= 77.5\\nsquared_error = 2.122\\nsamples = 7\\nvalue = 77.143'),\n",
              " Text(0.40298507462686567, 0.2692307692307692, 'x[0] <= 69.0\\nsquared_error = 0.5\\nsamples = 4\\nvalue = 76.0'),\n",
              " Text(0.39552238805970147, 0.19230769230769232, 'squared_error = 0.0\\nsamples = 1\\nvalue = 75.0'),\n",
              " Text(0.41044776119402987, 0.19230769230769232, 'x[5] <= 38.0\\nsquared_error = 0.222\\nsamples = 3\\nvalue = 76.333'),\n",
              " Text(0.40298507462686567, 0.11538461538461539, 'squared_error = 0.0\\nsamples = 1\\nvalue = 77.0'),\n",
              " Text(0.417910447761194, 0.11538461538461539, 'squared_error = 0.0\\nsamples = 2\\nvalue = 76.0'),\n",
              " Text(0.43283582089552236, 0.2692307692307692, 'x[6] <= 14.5\\nsquared_error = 0.222\\nsamples = 3\\nvalue = 78.667'),\n",
              " Text(0.4253731343283582, 0.19230769230769232, 'squared_error = 0.0\\nsamples = 2\\nvalue = 79.0'),\n",
              " Text(0.44029850746268656, 0.19230769230769232, 'squared_error = 0.0\\nsamples = 1\\nvalue = 78.0'),\n",
              " Text(0.4701492537313433, 0.34615384615384615, 'x[0] <= 81.5\\nsquared_error = 1.85\\nsamples = 10\\nvalue = 81.5'),\n",
              " Text(0.4626865671641791, 0.2692307692307692, 'x[0] <= 78.0\\nsquared_error = 0.583\\nsamples = 6\\nvalue = 80.5'),\n",
              " Text(0.4552238805970149, 0.19230769230769232, 'squared_error = 0.0\\nsamples = 4\\nvalue = 81.0'),\n",
              " Text(0.4701492537313433, 0.19230769230769232, 'x[6] <= 13.0\\nsquared_error = 0.25\\nsamples = 2\\nvalue = 79.5'),\n",
              " Text(0.4626865671641791, 0.11538461538461539, 'squared_error = 0.0\\nsamples = 1\\nvalue = 80.0'),\n",
              " Text(0.47761194029850745, 0.11538461538461539, 'squared_error = 0.0\\nsamples = 1\\nvalue = 79.0'),\n",
              " Text(0.47761194029850745, 0.2692307692307692, 'squared_error = 0.0\\nsamples = 4\\nvalue = 83.0'),\n",
              " Text(0.5074626865671642, 0.4230769230769231, 'x[5] <= 40.0\\nsquared_error = 2.917\\nsamples = 6\\nvalue = 84.5'),\n",
              " Text(0.5, 0.34615384615384615, 'x[1] <= 83.5\\nsquared_error = 0.56\\nsamples = 5\\nvalue = 83.8'),\n",
              " Text(0.4925373134328358, 0.2692307692307692, 'squared_error = 0.0\\nsamples = 2\\nvalue = 83.0'),\n",
              " Text(0.5074626865671642, 0.2692307692307692, 'x[1] <= 84.5\\nsquared_error = 0.222\\nsamples = 3\\nvalue = 84.333'),\n",
              " Text(0.5, 0.19230769230769232, 'squared_error = 0.0\\nsamples = 2\\nvalue = 84.0'),\n",
              " Text(0.5149253731343284, 0.19230769230769232, 'squared_error = 0.0\\nsamples = 1\\nvalue = 85.0'),\n",
              " Text(0.5149253731343284, 0.34615384615384615, 'squared_error = 0.0\\nsamples = 1\\nvalue = 88.0'),\n",
              " Text(0.5522388059701493, 0.5, 'x[0] <= 85.5\\nsquared_error = 1.806\\nsamples = 6\\nvalue = 86.167'),\n",
              " Text(0.5373134328358209, 0.4230769230769231, 'x[2] <= 5.0\\nsquared_error = 0.25\\nsamples = 2\\nvalue = 84.5'),\n",
              " Text(0.5298507462686567, 0.34615384615384615, 'squared_error = 0.0\\nsamples = 1\\nvalue = 84.0'),\n",
              " Text(0.5447761194029851, 0.34615384615384615, 'squared_error = 0.0\\nsamples = 1\\nvalue = 85.0'),\n",
              " Text(0.5671641791044776, 0.4230769230769231, 'x[4] <= 8.5\\nsquared_error = 0.5\\nsamples = 4\\nvalue = 87.0'),\n",
              " Text(0.5597014925373134, 0.34615384615384615, 'squared_error = 0.0\\nsamples = 1\\nvalue = 86.0'),\n",
              " Text(0.5746268656716418, 0.34615384615384615, 'x[0] <= 87.5\\nsquared_error = 0.222\\nsamples = 3\\nvalue = 87.333'),\n",
              " Text(0.5671641791044776, 0.2692307692307692, 'squared_error = 0.0\\nsamples = 2\\nvalue = 87.0'),\n",
              " Text(0.582089552238806, 0.2692307692307692, 'squared_error = 0.0\\nsamples = 1\\nvalue = 88.0'),\n",
              " Text(0.5289179104477612, 0.5769230769230769, 'squared_error = 0.0\\nsamples = 1\\nvalue = 101.0'),\n",
              " Text(0.5671641791044776, 0.7307692307692307, 'x[6] <= 14.0\\nsquared_error = 40.44\\nsamples = 10\\nvalue = 102.4'),\n",
              " Text(0.5522388059701493, 0.6538461538461539, 'x[2] <= 3.5\\nsquared_error = 10.889\\nsamples = 3\\nvalue = 111.667'),\n",
              " Text(0.5447761194029851, 0.5769230769230769, 'squared_error = 0.0\\nsamples = 1\\nvalue = 107.0'),\n",
              " Text(0.5597014925373134, 0.5769230769230769, 'squared_error = 0.0\\nsamples = 2\\nvalue = 114.0'),\n",
              " Text(0.582089552238806, 0.6538461538461539, 'x[0] <= 98.5\\nsquared_error = 0.531\\nsamples = 7\\nvalue = 98.429'),\n",
              " Text(0.5746268656716418, 0.5769230769230769, 'x[5] <= 43.5\\nsquared_error = 0.222\\nsamples = 3\\nvalue = 97.667'),\n",
              " Text(0.5671641791044776, 0.5, 'squared_error = 0.0\\nsamples = 1\\nvalue = 97.0'),\n",
              " Text(0.582089552238806, 0.5, 'squared_error = 0.0\\nsamples = 2\\nvalue = 98.0'),\n",
              " Text(0.5895522388059702, 0.5769230769230769, 'squared_error = 0.0\\nsamples = 4\\nvalue = 99.0'),\n",
              " Text(0.7919776119402985, 0.8846153846153846, 'x[0] <= 134.0\\nsquared_error = 174.423\\nsamples = 54\\nvalue = 138.056'),\n",
              " Text(0.7033582089552238, 0.8076923076923077, 'x[0] <= 120.5\\nsquared_error = 41.424\\nsamples = 22\\nvalue = 124.409'),\n",
              " Text(0.6529850746268657, 0.7307692307692307, 'x[4] <= 6.5\\nsquared_error = 14.744\\nsamples = 11\\nvalue = 118.727'),\n",
              " Text(0.6194029850746269, 0.6538461538461539, 'x[1] <= 115.0\\nsquared_error = 8.64\\nsamples = 5\\nvalue = 115.4'),\n",
              " Text(0.6044776119402985, 0.5769230769230769, 'x[4] <= 4.5\\nsquared_error = 1.0\\nsamples = 2\\nvalue = 112.0'),\n",
              " Text(0.5970149253731343, 0.5, 'squared_error = 0.0\\nsamples = 1\\nvalue = 111.0'),\n",
              " Text(0.6119402985074627, 0.5, 'squared_error = 0.0\\nsamples = 1\\nvalue = 113.0'),\n",
              " Text(0.6343283582089553, 0.5769230769230769, 'x[6] <= 2.5\\nsquared_error = 0.889\\nsamples = 3\\nvalue = 117.667'),\n",
              " Text(0.6268656716417911, 0.5, 'squared_error = 0.0\\nsamples = 1\\nvalue = 119.0'),\n",
              " Text(0.6417910447761194, 0.5, 'squared_error = 0.0\\nsamples = 2\\nvalue = 117.0'),\n",
              " Text(0.6865671641791045, 0.6538461538461539, 'x[6] <= 16.0\\nsquared_error = 2.917\\nsamples = 6\\nvalue = 121.5'),\n",
              " Text(0.664179104477612, 0.5769230769230769, 'x[2] <= 21.5\\nsquared_error = 0.667\\nsamples = 3\\nvalue = 123.0'),\n",
              " Text(0.6567164179104478, 0.5, 'squared_error = 0.0\\nsamples = 1\\nvalue = 122.0'),\n",
              " Text(0.6716417910447762, 0.5, 'x[5] <= 69.0\\nsquared_error = 0.25\\nsamples = 2\\nvalue = 123.5'),\n",
              " Text(0.664179104477612, 0.4230769230769231, 'squared_error = 0.0\\nsamples = 1\\nvalue = 123.0'),\n",
              " Text(0.6791044776119403, 0.4230769230769231, 'squared_error = 0.0\\nsamples = 1\\nvalue = 124.0'),\n",
              " Text(0.7089552238805971, 0.5769230769230769, 'x[2] <= 34.0\\nsquared_error = 0.667\\nsamples = 3\\nvalue = 120.0'),\n",
              " Text(0.7014925373134329, 0.5, 'x[6] <= 17.5\\nsquared_error = 0.25\\nsamples = 2\\nvalue = 119.5'),\n",
              " Text(0.6940298507462687, 0.4230769230769231, 'squared_error = 0.0\\nsamples = 1\\nvalue = 120.0'),\n",
              " Text(0.7089552238805971, 0.4230769230769231, 'squared_error = 0.0\\nsamples = 1\\nvalue = 119.0'),\n",
              " Text(0.7164179104477612, 0.5, 'squared_error = 0.0\\nsamples = 1\\nvalue = 121.0'),\n",
              " Text(0.753731343283582, 0.7307692307692307, 'x[0] <= 131.0\\nsquared_error = 3.537\\nsamples = 11\\nvalue = 130.091'),\n",
              " Text(0.746268656716418, 0.6538461538461539, 'x[4] <= 51.0\\nsquared_error = 2.025\\nsamples = 9\\nvalue = 129.444'),\n",
              " Text(0.7388059701492538, 0.5769230769230769, 'x[2] <= 12.0\\nsquared_error = 0.5\\nsamples = 8\\nvalue = 129.0'),\n",
              " Text(0.7313432835820896, 0.5, 'x[0] <= 128.5\\nsquared_error = 0.222\\nsamples = 6\\nvalue = 128.667'),\n",
              " Text(0.7238805970149254, 0.4230769230769231, 'squared_error = 0.0\\nsamples = 2\\nvalue = 128.0'),\n",
              " Text(0.7388059701492538, 0.4230769230769231, 'squared_error = 0.0\\nsamples = 4\\nvalue = 129.0'),\n",
              " Text(0.746268656716418, 0.5, 'squared_error = 0.0\\nsamples = 2\\nvalue = 130.0'),\n",
              " Text(0.753731343283582, 0.5769230769230769, 'squared_error = 0.0\\nsamples = 1\\nvalue = 133.0'),\n",
              " Text(0.7611940298507462, 0.6538461538461539, 'squared_error = 0.0\\nsamples = 2\\nvalue = 133.0'),\n",
              " Text(0.8805970149253731, 0.8076923076923077, 'x[0] <= 147.0\\nsquared_error = 49.809\\nsamples = 32\\nvalue = 147.438'),\n",
              " Text(0.8190298507462687, 0.7307692307692307, 'x[0] <= 142.5\\nsquared_error = 9.694\\nsamples = 14\\nvalue = 140.857'),\n",
              " Text(0.7873134328358209, 0.6538461538461539, 'x[1] <= 114.5\\nsquared_error = 2.49\\nsamples = 10\\nvalue = 139.1'),\n",
              " Text(0.7686567164179104, 0.5769230769230769, 'x[6] <= 16.5\\nsquared_error = 0.25\\nsamples = 2\\nvalue = 136.5'),\n",
              " Text(0.7611940298507462, 0.5, 'squared_error = 0.0\\nsamples = 1\\nvalue = 136.0'),\n",
              " Text(0.7761194029850746, 0.5, 'squared_error = 0.0\\nsamples = 1\\nvalue = 137.0'),\n",
              " Text(0.8059701492537313, 0.5769230769230769, 'x[4] <= 25.5\\nsquared_error = 0.938\\nsamples = 8\\nvalue = 139.75'),\n",
              " Text(0.7910447761194029, 0.5, 'x[2] <= 11.5\\nsquared_error = 0.472\\nsamples = 6\\nvalue = 140.167'),\n",
              " Text(0.7835820895522388, 0.4230769230769231, 'squared_error = 0.0\\nsamples = 1\\nvalue = 139.0'),\n",
              " Text(0.7985074626865671, 0.4230769230769231, 'x[0] <= 138.5\\nsquared_error = 0.24\\nsamples = 5\\nvalue = 140.4'),\n",
              " Text(0.7910447761194029, 0.34615384615384615, 'squared_error = 0.0\\nsamples = 2\\nvalue = 140.0'),\n",
              " Text(0.8059701492537313, 0.34615384615384615, 'x[5] <= 39.0\\nsquared_error = 0.222\\nsamples = 3\\nvalue = 140.667'),\n",
              " Text(0.7985074626865671, 0.2692307692307692, 'squared_error = 0.0\\nsamples = 1\\nvalue = 140.0'),\n",
              " Text(0.8134328358208955, 0.2692307692307692, 'squared_error = 0.0\\nsamples = 2\\nvalue = 141.0'),\n",
              " Text(0.8208955223880597, 0.5, 'x[1] <= 127.5\\nsquared_error = 0.25\\nsamples = 2\\nvalue = 138.5'),\n",
              " Text(0.8134328358208955, 0.4230769230769231, 'squared_error = 0.0\\nsamples = 1\\nvalue = 139.0'),\n",
              " Text(0.8283582089552238, 0.4230769230769231, 'squared_error = 0.0\\nsamples = 1\\nvalue = 138.0'),\n",
              " Text(0.8507462686567164, 0.6538461538461539, 'x[0] <= 145.5\\nsquared_error = 0.688\\nsamples = 4\\nvalue = 145.25'),\n",
              " Text(0.8432835820895522, 0.5769230769230769, 'x[1] <= 137.5\\nsquared_error = 0.25\\nsamples = 2\\nvalue = 144.5'),\n",
              " Text(0.835820895522388, 0.5, 'squared_error = 0.0\\nsamples = 1\\nvalue = 144.0'),\n",
              " Text(0.8507462686567164, 0.5, 'squared_error = 0.0\\nsamples = 1\\nvalue = 145.0'),\n",
              " Text(0.8582089552238806, 0.5769230769230769, 'squared_error = 0.0\\nsamples = 2\\nvalue = 146.0'),\n",
              " Text(0.9421641791044776, 0.7307692307692307, 'x[0] <= 155.0\\nsquared_error = 21.136\\nsamples = 18\\nvalue = 152.556'),\n",
              " Text(0.8992537313432836, 0.6538461538461539, 'x[0] <= 150.5\\nsquared_error = 3.821\\nsamples = 14\\nvalue = 150.5'),\n",
              " Text(0.8731343283582089, 0.5769230769230769, 'x[0] <= 148.5\\nsquared_error = 0.583\\nsamples = 6\\nvalue = 148.5'),\n",
              " Text(0.8656716417910447, 0.5, 'squared_error = 0.0\\nsamples = 4\\nvalue = 148.0'),\n",
              " Text(0.8805970149253731, 0.5, 'x[1] <= 139.0\\nsquared_error = 0.25\\nsamples = 2\\nvalue = 149.5'),\n",
              " Text(0.8731343283582089, 0.4230769230769231, 'squared_error = 0.0\\nsamples = 1\\nvalue = 150.0'),\n",
              " Text(0.8880597014925373, 0.4230769230769231, 'squared_error = 0.0\\nsamples = 1\\nvalue = 149.0'),\n",
              " Text(0.9253731343283582, 0.5769230769230769, 'x[0] <= 152.5\\nsquared_error = 1.0\\nsamples = 8\\nvalue = 152.0'),\n",
              " Text(0.9104477611940298, 0.5, 'x[0] <= 151.5\\nsquared_error = 0.25\\nsamples = 6\\nvalue = 151.5'),\n",
              " Text(0.9029850746268657, 0.4230769230769231, 'squared_error = 0.0\\nsamples = 3\\nvalue = 151.0'),\n",
              " Text(0.917910447761194, 0.4230769230769231, 'squared_error = 0.0\\nsamples = 3\\nvalue = 152.0'),\n",
              " Text(0.9402985074626866, 0.5, 'x[2] <= 32.0\\nsquared_error = 0.25\\nsamples = 2\\nvalue = 153.5'),\n",
              " Text(0.9328358208955224, 0.4230769230769231, 'squared_error = 0.0\\nsamples = 1\\nvalue = 153.0'),\n",
              " Text(0.9477611940298507, 0.4230769230769231, 'squared_error = 0.0\\nsamples = 1\\nvalue = 154.0'),\n",
              " Text(0.9850746268656716, 0.6538461538461539, 'x[0] <= 163.0\\nsquared_error = 15.188\\nsamples = 4\\nvalue = 159.75'),\n",
              " Text(0.9776119402985075, 0.5769230769230769, 'x[0] <= 158.5\\nsquared_error = 2.889\\nsamples = 3\\nvalue = 157.667'),\n",
              " Text(0.9701492537313433, 0.5, 'x[3] <= 3.5\\nsquared_error = 0.25\\nsamples = 2\\nvalue = 156.5'),\n",
              " Text(0.9626865671641791, 0.4230769230769231, 'squared_error = 0.0\\nsamples = 1\\nvalue = 157.0'),\n",
              " Text(0.9776119402985075, 0.4230769230769231, 'squared_error = 0.0\\nsamples = 1\\nvalue = 156.0'),\n",
              " Text(0.9850746268656716, 0.5, 'squared_error = 0.0\\nsamples = 1\\nvalue = 160.0'),\n",
              " Text(0.9925373134328358, 0.5769230769230769, 'squared_error = 0.0\\nsamples = 1\\nvalue = 166.0')]"
            ]
          },
          "metadata": {},
          "execution_count": 27
        },
        {
          "output_type": "display_data",
          "data": {
            "text/plain": [
              "<Figure size 640x480 with 1 Axes>"
            ],
            "image/png": "[encoded data removed]"
          },
          "metadata": {}
        }
      ]
    },
    {
      "cell_type": "code",
      "source": [
        "import numpy as np\n",
        "from sklearn.metrics import mean_squared_error,r2_score,mean_absolute_error \n",
        "print(np.sqrt(mean_squared_error(y_test,yp)))\n",
        "print(mean_squared_error(y_test,yp ))\n",
        "print(mean_absolute_error(y_test,yp ))"
      ],
      "metadata": {
        "colab": {
          "base_uri": "https://localhost:8080/"
        },
        "id": "14JWDC5Ye2XP",
        "outputId": "93c6bcf3-35a4-4227-d634-d686f3694e83"
      },
      "execution_count": 28,
      "outputs": [
        {
          "output_type": "stream",
          "name": "stdout",
          "text": [
            "7.933144559926767\n",
            "62.93478260869565\n",
            "5.282608695652174\n"
          ]
        }
      ]
    },
    {
      "cell_type": "code",
      "source": [
        "from sklearn import svm\n",
        "from sklearn.metrics import accuracy_score\n",
        "cc=svm.SVR(kernel='linear')\n"
      ],
      "metadata": {
        "id": "5yat_eO4vgXt"
      },
      "execution_count": 29,
      "outputs": []
    },
    {
      "cell_type": "code",
      "source": [
        "cl=cc.fit(X_train,y_train.values.ravel())"
      ],
      "metadata": {
        "id": "TTJKVJxxwe48"
      },
      "execution_count": 30,
      "outputs": []
    },
    {
      "cell_type": "code",
      "source": [
        "yp=cl.predict(x_test)\n",
        "print(yp)"
      ],
      "metadata": {
        "colab": {
          "base_uri": "https://localhost:8080/"
        },
        "id": "UIu4xSPUwo7E",
        "outputId": "119cc777-fcdd-470b-debd-2d9e666c9318"
      },
      "execution_count": 31,
      "outputs": [
        {
          "output_type": "stream",
          "name": "stdout",
          "text": [
            "[147.62259929  84.0078113  131.52450591 112.78951808  51.26774488\n",
            " 158.0747105   65.40141734  70.55439019  47.04856186  34.11970615\n",
            " 113.70027808  74.73567956  57.41185177 158.7616967   67.12824551\n",
            "  71.59086284 145.55048987  58.88854278 140.72856355 158.46658729\n",
            "  68.82663613 129.94868069  91.2440461  156.19959543  64.61826953\n",
            " 138.91962034 147.50442717  68.79136871  48.41329817 118.19504745\n",
            " 123.07715941  57.60196488 145.24411624  31.64553289  66.56750968\n",
            " 120.28668391 122.5694353   58.29434561  80.38678232 123.60915493\n",
            " 145.62892173 130.06674224  70.84972155 160.11652519  72.43439862\n",
            "  83.99975057]\n"
          ]
        }
      ]
    },
    {
      "cell_type": "code",
      "source": [
        "import numpy as np\n",
        "from sklearn.metrics import mean_squared_error,r2_score,mean_absolute_error \n",
        "print(np.sqrt(mean_squared_error(y_test,yp)))\n",
        "print(mean_squared_error(y_test,yp ))\n",
        "print(mean_absolute_error(y_test,yp ))"
      ],
      "metadata": {
        "colab": {
          "base_uri": "https://localhost:8080/"
        },
        "id": "_gYhpGGTeege",
        "outputId": "0dddebad-4e64-442e-94da-571f222764f8"
      },
      "execution_count": 32,
      "outputs": [
        {
          "output_type": "stream",
          "name": "stdout",
          "text": [
            "4.9135132977734735\n",
            "24.142612927396755\n",
            "3.6699528174496265\n"
          ]
        }
      ]
    },
    {
      "cell_type": "code",
      "source": [
        "from sklearn.neighbors import KNeighborsRegressor\n",
        "from sklearn.metrics import accuracy_score\n",
        "\n",
        "from sklearn.neighbors import KNeighborsRegressor\n",
        "from sklearn.metrics import accuracy_score \n",
        "kk=KNeighborsRegressor() \n",
        "kk.fit(X_train, y_train.values.ravel())"
      ],
      "metadata": {
        "id": "ufAmSnSDxEsd",
        "colab": {
          "base_uri": "https://localhost:8080/",
          "height": 74
        },
        "outputId": "415ca57c-55a0-4829-bd91-83f409aa7a3d"
      },
      "execution_count": 33,
      "outputs": [
        {
          "output_type": "execute_result",
          "data": {
            "text/plain": [
              "KNeighborsRegressor()"
            ],
            "text/html": [
              "<style>#sk-container-id-3 {color: black;background-color: white;}#sk-container-id-3 pre{padding: 0;}#sk-container-id-3 div.sk-toggleable {background-color: white;}#sk-container-id-3 label.sk-toggleable__label {cursor: pointer;display: block;width: 100%;margin-bottom: 0;padding: 0.3em;box-sizing: border-box;text-align: center;}#sk-container-id-3 label.sk-toggleable__label-arrow:before {content: \"▸\";float: left;margin-right: 0.25em;color: #696969;}#sk-container-id-3 label.sk-toggleable__label-arrow:hover:before {color: black;}#sk-container-id-3 div.sk-estimator:hover label.sk-toggleable__label-arrow:before {color: black;}#sk-container-id-3 div.sk-toggleable__content {max-height: 0;max-width: 0;overflow: hidden;text-align: left;background-color: #f0f8ff;}#sk-container-id-3 div.sk-toggleable__content pre {margin: 0.2em;color: black;border-radius: 0.25em;background-color: #f0f8ff;}#sk-container-id-3 input.sk-toggleable__control:checked~div.sk-toggleable__content {max-height: 200px;max-width: 100%;overflow: auto;}#sk-container-id-3 input.sk-toggleable__control:checked~label.sk-toggleable__label-arrow:before {content: \"▾\";}#sk-container-id-3 div.sk-estimator input.sk-toggleable__control:checked~label.sk-toggleable__label {background-color: #d4ebff;}#sk-container-id-3 div.sk-label input.sk-toggleable__control:checked~label.sk-toggleable__label {background-color: #d4ebff;}#sk-container-id-3 input.sk-hidden--visually {border: 0;clip: rect(1px 1px 1px 1px);clip: rect(1px, 1px, 1px, 1px);height: 1px;margin: -1px;overflow: hidden;padding: 0;position: absolute;width: 1px;}#sk-container-id-3 div.sk-estimator {font-family: monospace;background-color: #f0f8ff;border: 1px dotted black;border-radius: 0.25em;box-sizing: border-box;margin-bottom: 0.5em;}#sk-container-id-3 div.sk-estimator:hover {background-color: #d4ebff;}#sk-container-id-3 div.sk-parallel-item::after {content: \"\";width: 100%;border-bottom: 1px solid gray;flex-grow: 1;}#sk-container-id-3 div.sk-label:hover label.sk-toggleable__label {background-color: #d4ebff;}#sk-container-id-3 div.sk-serial::before {content: \"\";position: absolute;border-left: 1px solid gray;box-sizing: border-box;top: 0;bottom: 0;left: 50%;z-index: 0;}#sk-container-id-3 div.sk-serial {display: flex;flex-direction: column;align-items: center;background-color: white;padding-right: 0.2em;padding-left: 0.2em;position: relative;}#sk-container-id-3 div.sk-item {position: relative;z-index: 1;}#sk-container-id-3 div.sk-parallel {display: flex;align-items: stretch;justify-content: center;background-color: white;position: relative;}#sk-container-id-3 div.sk-item::before, #sk-container-id-3 div.sk-parallel-item::before {content: \"\";position: absolute;border-left: 1px solid gray;box-sizing: border-box;top: 0;bottom: 0;left: 50%;z-index: -1;}#sk-container-id-3 div.sk-parallel-item {display: flex;flex-direction: column;z-index: 1;position: relative;background-color: white;}#sk-container-id-3 div.sk-parallel-item:first-child::after {align-self: flex-end;width: 50%;}#sk-container-id-3 div.sk-parallel-item:last-child::after {align-self: flex-start;width: 50%;}#sk-container-id-3 div.sk-parallel-item:only-child::after {width: 0;}#sk-container-id-3 div.sk-dashed-wrapped {border: 1px dashed gray;margin: 0 0.4em 0.5em 0.4em;box-sizing: border-box;padding-bottom: 0.4em;background-color: white;}#sk-container-id-3 div.sk-label label {font-family: monospace;font-weight: bold;display: inline-block;line-height: 1.2em;}#sk-container-id-3 div.sk-label-container {text-align: center;}#sk-container-id-3 div.sk-container {/* jupyter's `normalize.less` sets `[hidden] { display: none; }` but bootstrap.min.css set `[hidden] { display: none !important; }` so we also need the `!important` here to be able to override the default hidden behavior on the sphinx rendered scikit-learn.org. See: https://github.com/scikit-learn/scikit-learn/issues/21755 */display: inline-block !important;position: relative;}#sk-container-id-3 div.sk-text-repr-fallback {display: none;}</style><div id=\"sk-container-id-3\" class=\"sk-top-container\"><div class=\"sk-text-repr-fallback\"><pre>KNeighborsRegressor()</pre><b>In a Jupyter environment, please rerun this cell to show the HTML representation or trust the notebook. <br />On GitHub, the HTML representation is unable to render, please try loading this page with nbviewer.org.</b></div><div class=\"sk-container\" hidden><div class=\"sk-item\"><div class=\"sk-estimator sk-toggleable\"><input class=\"sk-toggleable__control sk-hidden--visually\" id=\"sk-estimator-id-3\" type=\"checkbox\" checked><label for=\"sk-estimator-id-3\" class=\"sk-toggleable__label sk-toggleable__label-arrow\">KNeighborsRegressor</label><div class=\"sk-toggleable__content\"><pre>KNeighborsRegressor()</pre></div></div></div></div></div>"
            ]
          },
          "metadata": {},
          "execution_count": 33
        }
      ]
    },
    {
      "cell_type": "code",
      "source": [
        "yp=cc.predict(x_test)\n",
        "print(yp)\n",
        "print(y_test)"
      ],
      "metadata": {
        "colab": {
          "base_uri": "https://localhost:8080/"
        },
        "id": "YdsgBywMF0GE",
        "outputId": "c8866798-a67a-4db1-98e2-6be365b34d7a"
      },
      "execution_count": 34,
      "outputs": [
        {
          "output_type": "stream",
          "name": "stdout",
          "text": [
            "[147.62259929  84.0078113  131.52450591 112.78951808  51.26774488\n",
            " 158.0747105   65.40141734  70.55439019  47.04856186  34.11970615\n",
            " 113.70027808  74.73567956  57.41185177 158.7616967   67.12824551\n",
            "  71.59086284 145.55048987  58.88854278 140.72856355 158.46658729\n",
            "  68.82663613 129.94868069  91.2440461  156.19959543  64.61826953\n",
            " 138.91962034 147.50442717  68.79136871  48.41329817 118.19504745\n",
            " 123.07715941  57.60196488 145.24411624  31.64553289  66.56750968\n",
            " 120.28668391 122.5694353   58.29434561  80.38678232 123.60915493\n",
            " 145.62892173 130.06674224  70.84972155 160.11652519  72.43439862\n",
            "  83.99975057]\n",
            "     AQI\n",
            "212  150\n",
            "171   81\n",
            "20   134\n",
            "114  112\n",
            "66    51\n",
            "23   166\n",
            "126   63\n",
            "93    72\n",
            "77    52\n",
            "53    43\n",
            "89   116\n",
            "159   73\n",
            "196   52\n",
            "10   163\n",
            "30    71\n",
            "154   71\n",
            "13   144\n",
            "163   72\n",
            "85   144\n",
            "24   166\n",
            "120   67\n",
            "142  129\n",
            "147   96\n",
            "35   158\n",
            "131   77\n",
            "144  136\n",
            "207  146\n",
            "90    70\n",
            "65    48\n",
            "111  117\n",
            "202  129\n",
            "41    57\n",
            "25   136\n",
            "54    43\n",
            "99    67\n",
            "74   123\n",
            "203  130\n",
            "44    55\n",
            "6     79\n",
            "28   120\n",
            "12   146\n",
            "29   125\n",
            "193   70\n",
            "18   165\n",
            "152   73\n",
            "5     80\n"
          ]
        }
      ]
    },
    {
      "cell_type": "code",
      "source": [
        "import numpy as np\n",
        "from sklearn.metrics import mean_squared_error,r2_score,mean_absolute_error \n",
        "print(np.sqrt(mean_squared_error(y_test,yp)))\n",
        "print(mean_squared_error(y_test,yp ))\n",
        "print(mean_absolute_error(y_test,yp ))"
      ],
      "metadata": {
        "colab": {
          "base_uri": "https://localhost:8080/"
        },
        "id": "_kC_5AKunOQ7",
        "outputId": "44087d64-655b-4b5b-a401-cf72817e0e98"
      },
      "execution_count": 35,
      "outputs": [
        {
          "output_type": "stream",
          "name": "stdout",
          "text": [
            "4.9135132977734735\n",
            "24.142612927396755\n",
            "3.6699528174496265\n"
          ]
        }
      ]
    },
    {
      "cell_type": "code",
      "source": [
        "dtr_model = DecisionTreeRegressor()\n",
        "dtr_model.fit(X_train, y_train)\n",
        "y_pred = dtr_model.predict(x_test)\n",
        "r2 = r2_score(y_test, y_pred)\n",
        "print(f\"R-squared score: {r2}\")"
      ],
      "metadata": {
        "colab": {
          "base_uri": "https://localhost:8080/"
        },
        "id": "9UgF_EMsdDBm",
        "outputId": "77ac0ca3-e149-4eea-e7ae-3eb14d2ede45"
      },
      "execution_count": 36,
      "outputs": [
        {
          "output_type": "stream",
          "name": "stdout",
          "text": [
            "R-squared score: 0.9938992414449133\n"
          ]
        }
      ]
    }
  ]
}